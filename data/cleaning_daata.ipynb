{
 "cells": [
  {
   "cell_type": "code",
   "execution_count": 1,
   "metadata": {},
   "outputs": [
    {
     "name": "stdout",
     "output_type": "stream",
     "text": [
      "✅ Done! Cleaned data saved as 'rearranged_courses_cleaned.json'\n"
     ]
    }
   ],
   "source": [
    "import json\n",
    "import re\n",
    "\n",
    "# Load rearranged data\n",
    "with open(\"rearranged_courses.json\", \"r\", encoding=\"utf-8\") as f:\n",
    "    data = json.load(f)\n",
    "\n",
    "def extract_number_or_none(value):\n",
    "    if not value or \"ไม่เปิดรับสมัคร\" in value or value.strip() == \"\":\n",
    "        return None\n",
    "    match = re.search(r\"(\\d+)\", value)\n",
    "    return int(match.group(1)) if match else None\n",
    "\n",
    "for entry in data:\n",
    "    for round_key in [\"รอบ 1 Portfolio\", \"รอบ 2 Quota\", \"รอบ 3 Admission\", \"รอบ 4 Direct Admission\"]:\n",
    "        entry[round_key] = extract_number_or_none(entry.get(round_key, \"\"))\n",
    "\n",
    "# Save updated JSON\n",
    "with open(\"rearranged_courses_cleaned.json\", \"w\", encoding=\"utf-8\") as f:\n",
    "    json.dump(data, f, ensure_ascii=False, indent=2)\n",
    "\n",
    "print(\"✅ Done! Cleaned data saved as 'rearranged_courses_cleaned.json'\")"
   ]
  }
 ],
 "metadata": {
  "kernelspec": {
   "display_name": "Python 3",
   "language": "python",
   "name": "python3"
  },
  "language_info": {
   "codemirror_mode": {
    "name": "ipython",
    "version": 3
   },
   "file_extension": ".py",
   "mimetype": "text/x-python",
   "name": "python",
   "nbconvert_exporter": "python",
   "pygments_lexer": "ipython3",
   "version": "3.10.8"
  },
  "orig_nbformat": 4
 },
 "nbformat": 4,
 "nbformat_minor": 2
}
